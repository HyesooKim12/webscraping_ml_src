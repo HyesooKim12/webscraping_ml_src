{
 "cells": [
  {
   "cell_type": "code",
   "execution_count": 1,
   "metadata": {},
   "outputs": [],
   "source": []
  },
  {
   "cell_type": "code",
   "execution_count": 11,
   "metadata": {},
   "outputs": [
    {
     "name": "stdout",
     "output_type": "stream",
     "text": [
      "image file name 20180613170931_666911e9fe23f46e797ef39d87a09f0a_IMAG01_1.jpg ( 3342 bytes )\n",
      "image file name 20180613170931_666911e9fe23f46e797ef39d87a09f0a_IMAG01_2.jpg ( 3342 bytes )\n",
      "image file name 20180613170931_666911e9fe23f46e797ef39d87a09f0a_IMAG01_3.jpg ( 3342 bytes )\n"
     ]
    }
   ],
   "source": [
    "import requests\n",
    "import os\n",
    "#신과함께 웹툰\n",
    "headers = {\n",
    "    'Referer':'http://comic.naver.com/webtoon/detail.nhn?titleId=697685&no=120&amp;weekday=thu'\n",
    "}\n",
    "image_urls = [\n",
    "    'https://image-comic.pstatic.net/webtoon/697685/120/20180613170931_666911e9fe23f46e797ef39d87a09f0a_IMAG01_1.jpg',\n",
    "    'https://image-comic.pstatic.net/webtoon/697685/120/20180613170931_666911e9fe23f46e797ef39d87a09f0a_IMAG01_2.jpg',\n",
    "    'https://image-comic.pstatic.net/webtoon/697685/120/20180613170931_666911e9fe23f46e797ef39d87a09f0a_IMAG01_3.jpg'\n",
    "]\n",
    "for image_url in image_urls:\n",
    "    res = requests.get(image_url,headers=headers)\n",
    "    #res = requests.get(image_url)\n",
    "    image_data = res.content\n",
    "    file_name = os.path.basename(image_url)\n",
    "    #print(file_name)\n",
    "    with open(file_name,'wb') as f:\n",
    "        print('image file name {} ( {} bytes )'.format(file_name,len(image_data)))\n",
    "        f.write(image_data)"
   ]
  }
 ],
 "metadata": {
  "kernelspec": {
   "display_name": "Python 3",
   "language": "python",
   "name": "python3"
  },
  "language_info": {
   "codemirror_mode": {
    "name": "ipython",
    "version": 3
   },
   "file_extension": ".py",
   "mimetype": "text/x-python",
   "name": "python",
   "nbconvert_exporter": "python",
   "pygments_lexer": "ipython3",
   "version": "3.6.5"
  }
 },
 "nbformat": 4,
 "nbformat_minor": 2
}
