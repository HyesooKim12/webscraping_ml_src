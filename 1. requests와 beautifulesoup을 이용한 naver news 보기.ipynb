{
 "cells": [
  {
   "cell_type": "markdown",
   "metadata": {},
   "source": [
    "## 1. requests 라이브러리를 이용\n",
    "### 1.1 naver new 보기"
   ]
  },
  {
   "cell_type": "code",
   "execution_count": 1,
   "metadata": {},
   "outputs": [],
   "source": [
    "import requests"
   ]
  },
  {
   "cell_type": "code",
   "execution_count": 2,
   "metadata": {},
   "outputs": [],
   "source": [
    "res = requests.get('http://news.naver.com/main/home.nhn')"
   ]
  },
  {
   "cell_type": "code",
   "execution_count": 3,
   "metadata": {},
   "outputs": [
    {
     "data": {
      "text/plain": [
       "200"
      ]
     },
     "execution_count": 3,
     "metadata": {},
     "output_type": "execute_result"
    }
   ],
   "source": [
    "res.status_code"
   ]
  },
  {
   "cell_type": "code",
   "execution_count": 4,
   "metadata": {},
   "outputs": [],
   "source": [
    "content = res.text"
   ]
  },
  {
   "cell_type": "code",
   "execution_count": 6,
   "metadata": {},
   "outputs": [],
   "source": [
    "#content"
   ]
  },
  {
   "cell_type": "markdown",
   "metadata": {},
   "source": [
    "## 2. BeautifulSoup을 이용하여 파싱하기"
   ]
  },
  {
   "cell_type": "code",
   "execution_count": 7,
   "metadata": {},
   "outputs": [],
   "source": [
    "from bs4 import BeautifulSoup"
   ]
  },
  {
   "cell_type": "code",
   "execution_count": 9,
   "metadata": {},
   "outputs": [],
   "source": [
    "#객체생성\n",
    "soup = BeautifulSoup(content,'html.parser')\n",
    "#soup"
   ]
  },
  {
   "cell_type": "code",
   "execution_count": 11,
   "metadata": {},
   "outputs": [
    {
     "data": {
      "text/plain": [
       "list"
      ]
     },
     "execution_count": 11,
     "metadata": {},
     "output_type": "execute_result"
    }
   ],
   "source": [
    "type(soup.select('a[href*=sectionList.nhn]'))"
   ]
  },
  {
   "cell_type": "code",
   "execution_count": 15,
   "metadata": {},
   "outputs": [
    {
     "name": "stdout",
     "output_type": "stream",
     "text": [
      "상식in뉴스 http://news.naver.com/main/hotissue/sectionList.nhn?mid=hot&sid1=110&gid=1076074\n",
      "광역단체장 민주 14·한국 2·무소속 1… 與 지방권력도 '접수' http://news.naver.com/main/hotissue/sectionList.nhn?sid1=100&gid=1080906&mid=hot&viewType=pc&cid=1080881&nh=20180614084115\n",
      "사설 http://news.naver.com/main/hotissue/sectionList.nhn?mid=hot&sid1=110&cid=1080937&viewType=pc\n",
      "범여권 안정적인 과반 의석 확보… 하반기 국정 ‘개혁 드라이브’ 예고 http://news.naver.com/main/hotissue/sectionList.nhn?sid1=100&gid=1080906&mid=hot&viewType=pc&cid=1080881&nh=20180614085101#1080930\n",
      "미 금리인상 속도 높이면 韓 경제 충격은…한은은 어쩌나 http://news.naver.com/main/hotissue/sectionList.nhn?sid1=101&mid=hot&viewType=pc&cid=996387&nh=20180614093235\n",
      "진보교육감-단체장 손잡고 무상교육 가속페달 http://news.naver.com/main/hotissue/sectionList.nhn?sid1=100&gid=1080906&mid=hot&viewType=pc&cid=1080881&nh=20180614091345#1080903\n",
      "지구촌 화제 http://news.naver.com/main/hotissue/sectionList.nhn?mid=hot&sid1=104&cid=845614\n",
      " http://news.naver.com/main/hotissue/sectionList.nhn?mid=hot&sid1=100&gid=1080906\n",
      "6.13 지방선거 http://news.naver.com/main/hotissue/sectionList.nhn?mid=hot&sid1=100&gid=1080906\n",
      " http://news.naver.com/main/hotissue/sectionList.nhn?mode=hot&sid1=100&gid=1080389\n",
      "6.12 북미정상회담 http://news.naver.com/main/hotissue/sectionList.nhn?mode=hot&sid1=100&gid=1080389\n",
      " http://news.naver.com/main/hotissue/sectionList.nhn?mid=hot&sid1=101&cid=957181\n",
      "부동산 시장 리포트 http://news.naver.com/main/hotissue/sectionList.nhn?mid=hot&sid1=101&cid=957181\n",
      " http://news.naver.com/main/hotissue/sectionList.nhn?mid=hot&sid1=100&cid=1079165&gid=1079155\n",
      "남북관계와 한반도 정세 http://news.naver.com/main/hotissue/sectionList.nhn?mid=hot&sid1=100&cid=1079165&gid=1079155\n",
      " http://news.naver.com/main/hotissue/sectionList.nhn?mid=hot&sid1=100&gid=1051906&cid=1060622\n",
      "'박근혜·최순실' 국정농단 재판 http://news.naver.com/main/hotissue/sectionList.nhn?mid=hot&sid1=100&gid=1051906&cid=1060622\n",
      " http://news.naver.com/main/hotissue/sectionList.nhn?mid=hot&sid1=100&gid=1075875&cid=1070398\n",
      "MB 다스 의혹 등 검찰 수사 http://news.naver.com/main/hotissue/sectionList.nhn?mid=hot&sid1=100&gid=1075875&cid=1070398\n",
      " http://news.naver.com/main/hotissue/sectionList.nhn?mid=hot&sid1=102&gid=1012477&cid=984650\n",
      "세월호 인양 그 후 http://news.naver.com/main/hotissue/sectionList.nhn?mid=hot&sid1=102&gid=1012477&cid=984650\n",
      " http://news.naver.com/main/hotissue/sectionList.nhn?mode=hot&sid1=102&cid=1077043\n",
      "각계 #미투 확산 http://news.naver.com/main/hotissue/sectionList.nhn?mode=hot&sid1=102&cid=1077043\n",
      " http://news.naver.com/main/hotissue/sectionList.nhn?mid=hot&sid1=103&cid=1075678\n",
      "커지는 미세먼지 위협 http://news.naver.com/main/hotissue/sectionList.nhn?mid=hot&sid1=103&cid=1075678\n",
      " http://news.naver.com/main/hotissue/sectionList.nhn?mid=hot&sid1=104&gid=1035341\n",
      "美 '트럼프 시대' http://news.naver.com/main/hotissue/sectionList.nhn?mid=hot&sid1=104&gid=1035341\n",
      " http://news.naver.com/main/hotissue/sectionList.nhn?mid=hot&sid1=101&cid=996387\n",
      "글로벌 경제 리포트 http://news.naver.com/main/hotissue/sectionList.nhn?mid=hot&sid1=101&cid=996387\n",
      " http://news.naver.com/main/hotissue/sectionList.nhn?mid=hot&sid1=101&cid=1074429&dummy=1712211554\n",
      "가상화폐 둘러싼 논란 http://news.naver.com/main/hotissue/sectionList.nhn?mid=hot&sid1=101&cid=1074429&dummy=1712211554\n",
      " http://news.naver.com/main/hotissue/sectionList.nhn?mid=hot&sid1=104&cid=334823\n",
      "세계와 생각 나누기 http://news.naver.com/main/hotissue/sectionList.nhn?mid=hot&sid1=104&cid=334823\n",
      " http://news.naver.com/main/hotissue/sectionList.nhn?mid=hot&sid1=110&cid=1064672&dummy=1712081723\n",
      "김인수 기자의 사람이니까 경영이다 http://news.naver.com/main/hotissue/sectionList.nhn?mid=hot&sid1=110&cid=1064672&dummy=1712081723\n",
      "불공정 선거 보도 기사 모음 http://news.naver.com/main/hotissue/sectionList.nhn?mid=hot&sid1=100&cid=909906&decorator=ombudsman&confirm=true\n"
     ]
    }
   ],
   "source": [
    "for aTag in soup.select('a[href*=sectionList.nhn]'):\n",
    "    link = aTag['href']\n",
    "    text = aTag.text.strip()\n",
    "    print(text, link)"
   ]
  },
  {
   "cell_type": "code",
   "execution_count": null,
   "metadata": {},
   "outputs": [],
   "source": []
  },
  {
   "cell_type": "code",
   "execution_count": null,
   "metadata": {},
   "outputs": [],
   "source": []
  },
  {
   "cell_type": "code",
   "execution_count": null,
   "metadata": {},
   "outputs": [],
   "source": []
  }
 ],
 "metadata": {
  "kernelspec": {
   "display_name": "Python 3",
   "language": "python",
   "name": "python3"
  },
  "language_info": {
   "codemirror_mode": {
    "name": "ipython",
    "version": 3
   },
   "file_extension": ".py",
   "mimetype": "text/x-python",
   "name": "python",
   "nbconvert_exporter": "python",
   "pygments_lexer": "ipython3",
   "version": "3.6.5"
  }
 },
 "nbformat": 4,
 "nbformat_minor": 2
}
